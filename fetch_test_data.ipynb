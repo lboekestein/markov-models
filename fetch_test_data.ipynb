{
 "cells": [
  {
   "cell_type": "markdown",
   "id": "c400836a",
   "metadata": {},
   "source": [
    "# Fetch test data set from VIEWSER:"
   ]
  },
  {
   "cell_type": "code",
   "execution_count": 4,
   "id": "5de43c72",
   "metadata": {},
   "outputs": [],
   "source": [
    "from viewser import Queryset, Column\n",
    "import pandas as pd"
   ]
  },
  {
   "cell_type": "markdown",
   "id": "5923506b",
   "metadata": {},
   "source": [
    "Get dataset containing all features for the fatalities002 models:"
   ]
  },
  {
   "cell_type": "code",
   "execution_count": 9,
   "id": "f190d655",
   "metadata": {},
   "outputs": [
    {
     "name": "stdout",
     "output_type": "stream",
     "text": [
      "101: \"Queryset fatalities002_all_features *transform in progress* - 52 of 1089 jobs remaining\"      \r"
     ]
    },
    {
     "name": "stderr",
     "output_type": "stream",
     "text": [
      "100%|██████████| 58.6M/58.6M [01:23<00:00, 700kB/s]\n"
     ]
    },
    {
     "name": "stdout",
     "output_type": "stream",
     "text": [
      "Queryset fatalities002_all_features read successfully                                          \n",
      "Queryset simple_conflict read successfully                                            \n"
     ]
    }
   ],
   "source": [
    "fatalities_features = Queryset.from_storage(\"fatalities002_all_features\")\n",
    "fatalities_target = Queryset.from_storage(\"simple_conflict\")\n",
    "\n",
    "features = fatalities_features.fetch()\n",
    "target = fatalities_target.fetch()"
   ]
  },
  {
   "cell_type": "code",
   "execution_count": 12,
   "id": "029101b6",
   "metadata": {},
   "outputs": [],
   "source": [
    "# merge features and target on common index\n",
    "data = pd.merge(features, target, left_index=True, right_index=True)"
   ]
  },
  {
   "cell_type": "markdown",
   "id": "a0e0944f",
   "metadata": {},
   "source": [
    "And save as parquet file:"
   ]
  },
  {
   "cell_type": "code",
   "execution_count": 17,
   "id": "b8039400",
   "metadata": {},
   "outputs": [],
   "source": [
    "data.to_parquet(\"data/testdataset.parquet\")"
   ]
  }
 ],
 "metadata": {
  "kernelspec": {
   "display_name": "viewser",
   "language": "python",
   "name": "python3"
  },
  "language_info": {
   "codemirror_mode": {
    "name": "ipython",
    "version": 3
   },
   "file_extension": ".py",
   "mimetype": "text/x-python",
   "name": "python",
   "nbconvert_exporter": "python",
   "pygments_lexer": "ipython3",
   "version": "3.11.13"
  }
 },
 "nbformat": 4,
 "nbformat_minor": 5
}
