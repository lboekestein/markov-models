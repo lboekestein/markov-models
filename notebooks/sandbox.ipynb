{
 "cells": [
  {
   "cell_type": "markdown",
   "id": "afaf5653",
   "metadata": {},
   "source": [
    "# Observed Markov Models for new pipeline\n",
    "\n",
    "Translated from R as written here: https://github.com/prio-data/viewsforecasting/tree/main/Tools/new_markov"
   ]
  },
  {
   "cell_type": "markdown",
   "id": "d8de6a9d",
   "metadata": {},
   "source": [
    "## 0. Imports"
   ]
  },
  {
   "cell_type": "code",
   "execution_count": 1,
   "id": "5f3fc9ab",
   "metadata": {},
   "outputs": [],
   "source": [
    "import pandas as pd\n",
    "import importlib\n",
    "\n",
    "# set path\n",
    "import sys, os\n",
    "sys.path.append(os.path.abspath(\"..\"))\n",
    "\n",
    "from src import markov_model\n",
    "importlib.reload(markov_model)\n",
    "from src.markov_model import MarkovModel"
   ]
  },
  {
   "cell_type": "markdown",
   "id": "3cdc2a36",
   "metadata": {},
   "source": [
    "## 1. Import test dataset(s)"
   ]
  },
  {
   "cell_type": "code",
   "execution_count": 2,
   "id": "100a5cad",
   "metadata": {},
   "outputs": [],
   "source": [
    "data = pd.read_parquet(\"../data/testdataset.parquet\")"
   ]
  },
  {
   "cell_type": "markdown",
   "id": "edae1c81",
   "metadata": {},
   "source": [
    "## 2. Fit and predict with Markov Model"
   ]
  },
  {
   "cell_type": "markdown",
   "id": "01823d91",
   "metadata": {},
   "source": [
    "Model parameters:"
   ]
  },
  {
   "cell_type": "code",
   "execution_count": 3,
   "id": "4f6f48e9",
   "metadata": {},
   "outputs": [],
   "source": [
    "# random seed\n",
    "random_seed = 42\n",
    "\n",
    "# train test partitioner\n",
    "partitioner_dict = {\"train\":(121,408),\"test\":(409,456)}"
   ]
  },
  {
   "cell_type": "markdown",
   "id": "be0e2c30",
   "metadata": {},
   "source": [
    "Initialize Markov model:"
   ]
  },
  {
   "cell_type": "code",
   "execution_count": 4,
   "id": "009d8873",
   "metadata": {},
   "outputs": [],
   "source": [
    "markovmodel = MarkovModel(\n",
    "    partitioner_dict=partitioner_dict,\n",
    "    model_type=\"rf\",\n",
    "    markov_method=\"direct\",\n",
    "    random_state=42\n",
    ")"
   ]
  },
  {
   "cell_type": "markdown",
   "id": "fe1cc963",
   "metadata": {},
   "source": [
    "Fit for predicting 2 steps ahead"
   ]
  },
  {
   "cell_type": "code",
   "execution_count": 5,
   "id": "b01eaeed",
   "metadata": {},
   "outputs": [
    {
     "name": "stdout",
     "output_type": "stream",
     "text": [
      "Fitting Random Forest Classifier for state: war                      \n",
      "Finished fitting Random Forest Classifiers for all Markov states.\n",
      "Fitting Random Forest Regressor for state: war                    \n",
      "Finished fitting Random Forest Regressors for all Markov states.\n"
     ]
    }
   ],
   "source": [
    "markovmodel.fit(\n",
    "    data=data,\n",
    "    step=2,\n",
    "    target=\"ged_sb\",\n",
    ")"
   ]
  },
  {
   "cell_type": "markdown",
   "id": "36937751",
   "metadata": {},
   "source": [
    "And predict on test set"
   ]
  },
  {
   "cell_type": "code",
   "execution_count": 6,
   "id": "de19beaa",
   "metadata": {},
   "outputs": [],
   "source": [
    "predictions = markovmodel.predict(\n",
    "    data=data,\n",
    "    target=\"ged_sb\",\n",
    "    step=2,\n",
    "    predict_type=\"future\",\n",
    "    EndOfHistory=5\n",
    ")"
   ]
  },
  {
   "cell_type": "code",
   "execution_count": 7,
   "id": "34a89340",
   "metadata": {},
   "outputs": [
    {
     "data": {
      "text/html": [
       "<div>\n",
       "<style scoped>\n",
       "    .dataframe tbody tr th:only-of-type {\n",
       "        vertical-align: middle;\n",
       "    }\n",
       "\n",
       "    .dataframe tbody tr th {\n",
       "        vertical-align: top;\n",
       "    }\n",
       "\n",
       "    .dataframe thead th {\n",
       "        text-align: right;\n",
       "    }\n",
       "</style>\n",
       "<table border=\"1\" class=\"dataframe\">\n",
       "  <thead>\n",
       "    <tr style=\"text-align: right;\">\n",
       "      <th></th>\n",
       "      <th></th>\n",
       "      <th>predicted_fatalities</th>\n",
       "    </tr>\n",
       "    <tr>\n",
       "      <th>country_id</th>\n",
       "      <th>target_month_id</th>\n",
       "      <th></th>\n",
       "    </tr>\n",
       "  </thead>\n",
       "  <tbody>\n",
       "    <tr>\n",
       "      <th rowspan=\"5\" valign=\"top\">1</th>\n",
       "      <th>411.0</th>\n",
       "      <td>0.000000</td>\n",
       "    </tr>\n",
       "    <tr>\n",
       "      <th>412.0</th>\n",
       "      <td>0.087200</td>\n",
       "    </tr>\n",
       "    <tr>\n",
       "      <th>413.0</th>\n",
       "      <td>0.089800</td>\n",
       "    </tr>\n",
       "    <tr>\n",
       "      <th>414.0</th>\n",
       "      <td>0.000000</td>\n",
       "    </tr>\n",
       "    <tr>\n",
       "      <th>415.0</th>\n",
       "      <td>0.180100</td>\n",
       "    </tr>\n",
       "    <tr>\n",
       "      <th>...</th>\n",
       "      <th>...</th>\n",
       "      <td>...</td>\n",
       "    </tr>\n",
       "    <tr>\n",
       "      <th rowspan=\"5\" valign=\"top\">246</th>\n",
       "      <th>452.0</th>\n",
       "      <td>737.123625</td>\n",
       "    </tr>\n",
       "    <tr>\n",
       "      <th>453.0</th>\n",
       "      <td>720.031075</td>\n",
       "    </tr>\n",
       "    <tr>\n",
       "      <th>454.0</th>\n",
       "      <td>774.237900</td>\n",
       "    </tr>\n",
       "    <tr>\n",
       "      <th>455.0</th>\n",
       "      <td>708.719400</td>\n",
       "    </tr>\n",
       "    <tr>\n",
       "      <th>456.0</th>\n",
       "      <td>711.438350</td>\n",
       "    </tr>\n",
       "  </tbody>\n",
       "</table>\n",
       "<p>8786 rows × 1 columns</p>\n",
       "</div>"
      ],
      "text/plain": [
       "                            predicted_fatalities\n",
       "country_id target_month_id                      \n",
       "1          411.0                        0.000000\n",
       "           412.0                        0.087200\n",
       "           413.0                        0.089800\n",
       "           414.0                        0.000000\n",
       "           415.0                        0.180100\n",
       "...                                          ...\n",
       "246        452.0                      737.123625\n",
       "           453.0                      720.031075\n",
       "           454.0                      774.237900\n",
       "           455.0                      708.719400\n",
       "           456.0                      711.438350\n",
       "\n",
       "[8786 rows x 1 columns]"
      ]
     },
     "execution_count": 7,
     "metadata": {},
     "output_type": "execute_result"
    }
   ],
   "source": [
    "predictions"
   ]
  }
 ],
 "metadata": {
  "kernelspec": {
   "display_name": "markovmodels",
   "language": "python",
   "name": "python3"
  },
  "language_info": {
   "codemirror_mode": {
    "name": "ipython",
    "version": 3
   },
   "file_extension": ".py",
   "mimetype": "text/x-python",
   "name": "python",
   "nbconvert_exporter": "python",
   "pygments_lexer": "ipython3",
   "version": "3.11.14"
  }
 },
 "nbformat": 4,
 "nbformat_minor": 5
}
